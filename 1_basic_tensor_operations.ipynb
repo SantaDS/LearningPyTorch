{
 "cells": [
  {
   "cell_type": "markdown",
   "metadata": {},
   "source": [
    "Basic Tensor Operations"
   ]
  },
  {
   "cell_type": "code",
   "execution_count": 2,
   "metadata": {},
   "outputs": [],
   "source": [
    "from __future__ import print_function\n",
    "import torch"
   ]
  },
  {
   "cell_type": "code",
   "execution_count": 11,
   "metadata": {},
   "outputs": [
    {
     "name": "stdout",
     "output_type": "stream",
     "text": [
      "tensor([[0.0000e+00, 1.5846e+29, 0.0000e+00],\n",
      "        [1.5846e+29, 1.1210e-44, 0.0000e+00],\n",
      "        [0.0000e+00, 0.0000e+00, 0.0000e+00],\n",
      "        [0.0000e+00, 0.0000e+00, 0.0000e+00],\n",
      "        [0.0000e+00, 0.0000e+00, 0.0000e+00]])\n"
     ]
    }
   ],
   "source": [
    "# Construct a 5x3 matrix, uninitialized:\n",
    "x = torch.empty(5,3)\n",
    "print(x)"
   ]
  },
  {
   "cell_type": "code",
   "execution_count": 9,
   "metadata": {},
   "outputs": [
    {
     "name": "stdout",
     "output_type": "stream",
     "text": [
      "tensor([[0.5905, 0.0540, 0.4492],\n",
      "        [0.9001, 0.5458, 0.5047],\n",
      "        [0.8511, 0.4314, 0.9684],\n",
      "        [0.2221, 0.9864, 0.0281],\n",
      "        [0.4885, 0.7417, 0.2060]])\n"
     ]
    }
   ],
   "source": [
    "# Construct a randomly initialized matrix:\n",
    "x = torch.rand(5,3)\n",
    "print(x)"
   ]
  },
  {
   "cell_type": "code",
   "execution_count": 5,
   "metadata": {},
   "outputs": [
    {
     "name": "stdout",
     "output_type": "stream",
     "text": [
      "tensor([[0, 0, 0],\n",
      "        [0, 0, 0],\n",
      "        [0, 0, 0],\n",
      "        [0, 0, 0],\n",
      "        [0, 0, 0]])\n"
     ]
    }
   ],
   "source": [
    "# Construct a matrix filled zeros and of dtype long:\n",
    "x = torch.zeros(5,3, dtype = torch.long)\n",
    "print(x)"
   ]
  },
  {
   "cell_type": "code",
   "execution_count": 12,
   "metadata": {},
   "outputs": [
    {
     "name": "stdout",
     "output_type": "stream",
     "text": [
      "tensor([5.5000, 3.0000])\n",
      "tensor([[5, 3],\n",
      "        [7, 6]])\n"
     ]
    }
   ],
   "source": [
    "# Construct tensors directly from data:\n",
    "x = torch.tensor([5.5,3.0])\n",
    "y = torch.tensor([[5,3],[7, 6]])\n",
    "print(x)\n",
    "print(y)"
   ]
  },
  {
   "cell_type": "code",
   "execution_count": 13,
   "metadata": {},
   "outputs": [
    {
     "name": "stdout",
     "output_type": "stream",
     "text": [
      "tensor([[1., 1., 1.],\n",
      "        [1., 1., 1.],\n",
      "        [1., 1., 1.],\n",
      "        [1., 1., 1.],\n",
      "        [1., 1., 1.]], dtype=torch.float64)\n"
     ]
    }
   ],
   "source": [
    "# create a tensor based on an existing tensor. \n",
    "# These methods will reuse properties of the input tensor, e.g. dtype, unless new values are provided by user\n",
    "x = x.new_ones(5,3, dtype = torch.double)\n",
    "print(x)"
   ]
  },
  {
   "cell_type": "code",
   "execution_count": 15,
   "metadata": {},
   "outputs": [
    {
     "name": "stdout",
     "output_type": "stream",
     "text": [
      "tensor([[1., 1., 1.],\n",
      "        [1., 1., 1.],\n",
      "        [1., 1., 1.],\n",
      "        [1., 1., 1.],\n",
      "        [1., 1., 1.]], dtype=torch.float64)\n",
      "torch.Size([5, 3])\n"
     ]
    }
   ],
   "source": [
    "y = y.new_ones(5,3, dtype = torch.double)\n",
    "print(y)\n",
    "print(y.size())"
   ]
  },
  {
   "cell_type": "code",
   "execution_count": 22,
   "metadata": {},
   "outputs": [
    {
     "name": "stdout",
     "output_type": "stream",
     "text": [
      "tensor([[ 5.7000,  8.8000],\n",
      "        [ 6.5000, 16.0000]])\n"
     ]
    }
   ],
   "source": [
    "# Addition: syntax 1\n",
    "x = torch.tensor([[1.5, 2.7],[3.4, 6.8]])\n",
    "y = torch.tensor([[4.2, 6.1], [3.1, 9.2]])\n",
    "\n",
    "z = torch.add(x, y)\n",
    "print(z)"
   ]
  },
  {
   "cell_type": "code",
   "execution_count": 17,
   "metadata": {},
   "outputs": [
    {
     "name": "stdout",
     "output_type": "stream",
     "text": [
      "tensor([[ 5.7000,  8.8000],\n",
      "        [ 6.5000, 16.0000]])\n"
     ]
    }
   ],
   "source": [
    "# Addition: syntax 2 - providing an output tensor as argument\n",
    "result = torch.empty(2,2)\n",
    "torch.add(x, y, out = result)\n",
    "print(result)"
   ]
  },
  {
   "cell_type": "code",
   "execution_count": 18,
   "metadata": {},
   "outputs": [
    {
     "name": "stdout",
     "output_type": "stream",
     "text": [
      "tensor([[ 5.7000,  8.8000],\n",
      "        [ 6.5000, 16.0000]])\n"
     ]
    }
   ],
   "source": [
    "# Any operation that mutates a tensor in-place is post-fixed with an _. For example: x.copy_(y), x.t_()\n",
    "# Addition: in-place\n",
    "y.add_(x)\n",
    "print(y)"
   ]
  },
  {
   "cell_type": "code",
   "execution_count": 24,
   "metadata": {},
   "outputs": [
    {
     "name": "stdout",
     "output_type": "stream",
     "text": [
      "tensor([[ 5.7000,  8.8000],\n",
      "        [ 6.5000, 16.0000]])\n"
     ]
    }
   ],
   "source": [
    "y = y.add(x)\n",
    "print(y)"
   ]
  },
  {
   "cell_type": "code",
   "execution_count": 30,
   "metadata": {},
   "outputs": [
    {
     "data": {
      "text/plain": [
       "tensor([[8.8000]])"
      ]
     },
     "execution_count": 30,
     "metadata": {},
     "output_type": "execute_result"
    }
   ],
   "source": [
    "y[0:1,1:]"
   ]
  },
  {
   "cell_type": "code",
   "execution_count": 33,
   "metadata": {},
   "outputs": [
    {
     "name": "stdout",
     "output_type": "stream",
     "text": [
      "tensor([[0.1490, 0.8873, 0.8044, 0.0042],\n",
      "        [0.0412, 0.1353, 0.0222, 0.2789],\n",
      "        [0.3018, 0.2456, 0.1581, 0.7887],\n",
      "        [0.8480, 0.1344, 0.0787, 0.7148]])\n",
      "tensor([[-0.1004, -0.1296,  1.8126, -0.5152],\n",
      "        [-0.1454, -1.1997, -0.4875, -0.3418],\n",
      "        [ 0.4349, -1.2295, -0.1657, -1.5098],\n",
      "        [ 0.3786,  0.2780, -0.7746, -0.2871]])\n"
     ]
    }
   ],
   "source": [
    "# Getteing random values from Uniform (rand()) and Normal (randn()) distributions\n",
    "print(torch.rand(4,4))\n",
    "print(torch.randn(4,4))"
   ]
  },
  {
   "cell_type": "code",
   "execution_count": 36,
   "metadata": {},
   "outputs": [
    {
     "name": "stdout",
     "output_type": "stream",
     "text": [
      "torch.Size([4, 4]) torch.Size([2, 4, 2]) torch.Size([2, 8])\n"
     ]
    }
   ],
   "source": [
    "# Resizing: If you want to resize/reshape tensor, you can use torch.view()\n",
    "x = torch.randn(4,4)\n",
    "y = x.view(2,4,2)\n",
    "z = x.view(-1,8)\n",
    "print(x.size(), y.size(), z.size())"
   ]
  },
  {
   "cell_type": "code",
   "execution_count": 39,
   "metadata": {},
   "outputs": [
    {
     "name": "stdout",
     "output_type": "stream",
     "text": [
      "tensor([-0.1624])\n",
      "-0.16236455738544464\n",
      "tensor([[ 0.9325,  0.6342, -1.1469],\n",
      "        [ 1.5384,  1.8762, -0.2052]]) tensor([[-0.2052]]) -0.20521903038024902\n"
     ]
    }
   ],
   "source": [
    "# If you have a one element tensor, use .item() to get the value as a Python number\n",
    "x = torch.randn(1)\n",
    "print(x)\n",
    "print(x.item())\n",
    "\n",
    "y = torch.randn(2,3)\n",
    "print(y, y[1:,2:], y[1:,2:].item())"
   ]
  },
  {
   "cell_type": "code",
   "execution_count": 3,
   "metadata": {},
   "outputs": [
    {
     "name": "stdout",
     "output_type": "stream",
     "text": [
      "Tensor a: tensor([1., 1., 1., 1., 1.])\n",
      "Numpy array b: [1. 1. 1. 1. 1.]\n"
     ]
    }
   ],
   "source": [
    "# Converting a Torch Tensor to a NumPy Array\n",
    "\n",
    "a = torch.ones(5)\n",
    "print('Tensor a:', a)\n",
    "\n",
    "b = a.numpy()\n",
    "print('Numpy array b:', b)"
   ]
  },
  {
   "cell_type": "code",
   "execution_count": 4,
   "metadata": {},
   "outputs": [
    {
     "name": "stdout",
     "output_type": "stream",
     "text": [
      "New tensor a: tensor([3., 3., 3., 3., 3.])\n",
      "New numpy array b: [3. 3. 3. 3. 3.]\n"
     ]
    }
   ],
   "source": [
    "# The Torch Tensor and NumPy array will share their underlying memory locations, \n",
    "# and changing one will change the other.\n",
    "\n",
    "a.add_(2)\n",
    "print('New tensor a:', a)\n",
    "print('New numpy array b:', b)"
   ]
  },
  {
   "cell_type": "code",
   "execution_count": 5,
   "metadata": {},
   "outputs": [
    {
     "name": "stdout",
     "output_type": "stream",
     "text": [
      "Value of a: [2. 2. 2. 2. 2.]\n",
      "Value of b: tensor([2., 2., 2., 2., 2.], dtype=torch.float64)\n"
     ]
    }
   ],
   "source": [
    "# Converting NumPy Array to Torch Tensor\n",
    "\n",
    "import numpy as np\n",
    "a = np.ones(5)\n",
    "b = torch.from_numpy(a)\n",
    "np.add(a, 1, out=a)\n",
    "print('Value of a:', a)\n",
    "print('Value of b:', b)"
   ]
  },
  {
   "cell_type": "code",
   "execution_count": 7,
   "metadata": {},
   "outputs": [
    {
     "name": "stdout",
     "output_type": "stream",
     "text": [
      "value of tensor a: [[ 6  8]\n",
      " [10 12]]\n",
      "value of numpy array b: tensor([[1, 3],\n",
      "        [5, 7]])\n"
     ]
    }
   ],
   "source": [
    "# But by simple add it will not change both tensor and array\n",
    "a = np.array([[1,3],[5,7]])\n",
    "b = torch.from_numpy(a)\n",
    "a = a + 5\n",
    "print('value of tensor a:',a)\n",
    "print('value of numpy array b:',b)"
   ]
  },
  {
   "cell_type": "code",
   "execution_count": 9,
   "metadata": {},
   "outputs": [
    {
     "name": "stdout",
     "output_type": "stream",
     "text": [
      "value of tensor a: tensor([[2, 3],\n",
      "        [5, 6]])\n",
      "value of tensor b: [[1 2]\n",
      " [4 5]]\n"
     ]
    }
   ],
   "source": [
    "a = torch.tensor([[1,2],[4,5]])\n",
    "b = a.numpy()\n",
    "a = torch.add(a, 1)\n",
    "print('value of tensor a:',a)\n",
    "print('value of tensor b:',b)"
   ]
  },
  {
   "cell_type": "code",
   "execution_count": 10,
   "metadata": {},
   "outputs": [
    {
     "name": "stdout",
     "output_type": "stream",
     "text": [
      "GPU available: False\n"
     ]
    }
   ],
   "source": [
    "# let us run this cell only if CUDA is available\n",
    "# We will use ``torch.device`` objects to move tensors in and out of GPU\n",
    "if torch.cuda.is_available():\n",
    "    device = torch.device(\"cuda\")          # a CUDA device object\n",
    "    y = torch.ones_like(x, device=device)  # directly create a tensor on GPU\n",
    "    x = x.to(device)                       # or just use strings ``.to(\"cuda\")``\n",
    "    z = x + y\n",
    "    print(z)\n",
    "    print(z.to(\"cpu\", torch.double))       # ``.to`` can also change dtype together!\n",
    "\n",
    "print('GPU available:',torch.cuda.is_available())"
   ]
  },
  {
   "cell_type": "code",
   "execution_count": null,
   "metadata": {},
   "outputs": [],
   "source": []
  }
 ],
 "metadata": {
  "kernelspec": {
   "display_name": "Python 3",
   "language": "python",
   "name": "python3"
  },
  "language_info": {
   "codemirror_mode": {
    "name": "ipython",
    "version": 3
   },
   "file_extension": ".py",
   "mimetype": "text/x-python",
   "name": "python",
   "nbconvert_exporter": "python",
   "pygments_lexer": "ipython3",
   "version": "3.6.6"
  }
 },
 "nbformat": 4,
 "nbformat_minor": 2
}
